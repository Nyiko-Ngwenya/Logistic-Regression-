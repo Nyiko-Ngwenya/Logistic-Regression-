{
 "cells": [
  {
   "cell_type": "markdown",
   "metadata": {},
   "source": [
    "<h1><center> Titanic Survivors </center></h1>"
   ]
  },
  {
   "cell_type": "markdown",
   "metadata": {},
   "source": [
    "<img src='img/titanic2.jpg' >"
   ]
  },
  {
   "cell_type": "markdown",
   "metadata": {},
   "source": [
    "The sinking of the Titanic is one of the most infamous shipwrecks in history.\n",
    "\n",
    "On April 15, 1912, during her maiden voyage, the widely considered “unsinkable” RMS Titanic sank after colliding with an iceberg. Unfortunately, there weren’t enough lifeboats for everyone onboard, resulting in the death of 1502 out of 2224 passengers and crew.\n",
    "\n",
    "While there was some element of luck involved in surviving, it seems some groups of people were more likely to survive than others.\n",
    "\n",
    "In this notebook, we ask you to build a predictive model that answers the question: “what sorts of people were more likely to survive?” using passenger data (ie name, age, gender, socio-economic class, etc)."
   ]
  },
  {
   "cell_type": "code",
   "execution_count": null,
   "metadata": {},
   "outputs": [],
   "source": [
    "import pandas as pd\n",
    "\n",
    "import numpy as np\n",
    "\n",
    "import seaborn as sns\n",
    "\n",
    "import matplotlib.pyplot as plt\n",
    "\n",
    "from sklearn.preprocessing import LabelEncoder\n",
    "from sklearn.metrics import confusion_matrix \n"
   ]
  },
  {
   "cell_type": "code",
   "execution_count": null,
   "metadata": {},
   "outputs": [],
   "source": [
    "train = pd.read_csv('CSV/train.csv')\n",
    "test = pd.read_csv('CSV/test.csv')"
   ]
  },
  {
   "cell_type": "code",
   "execution_count": null,
   "metadata": {},
   "outputs": [],
   "source": [
    "print(len(train)+len(test))"
   ]
  },
  {
   "cell_type": "code",
   "execution_count": null,
   "metadata": {},
   "outputs": [],
   "source": [
    "train.head()"
   ]
  },
  {
   "cell_type": "code",
   "execution_count": null,
   "metadata": {},
   "outputs": [],
   "source": [
    "test.head()"
   ]
  },
  {
   "cell_type": "markdown",
   "metadata": {},
   "source": [
    "# EDA(Exploratory Data Analysis)\n",
    "- Visualize the data to see relationships between people who churned and those who didnt.\n",
    "- People who churned and didnt churn\n",
    "- Genders who churned and didnt churn \n",
    "- Distribution of monthly charges of those who churned and didnt churn\n",
    "- See if senior citizens are more likely to churn or not \n",
    "- Contract types and likelyness to churn\n",
    "- Streaming of movies does it afect churning or not "
   ]
  },
  {
   "cell_type": "code",
   "execution_count": null,
   "metadata": {},
   "outputs": [],
   "source": [
    "for x in [1,2,3]:\n",
    "    train.Age[train.Pclass == x].plot(kind='kde')\n",
    "plt.title('Age of people per class')\n",
    "plt.legend(('1st','2nd','3rd'))\n",
    "plt.xlabel('Ages')\n",
    "plt.show()"
   ]
  },
  {
   "cell_type": "code",
   "execution_count": null,
   "metadata": {},
   "outputs": [],
   "source": [
    "sns.boxplot(x='Pclass',y='Age',data=train)"
   ]
  },
  {
   "cell_type": "markdown",
   "metadata": {},
   "source": [
    "<h4>Age of people per class</h4>\n",
    "<blockquote>\n",
    "The ages of the 3rd class are faily young then the second class then the oldest being the 1st class we can contribute this to first class being expensive . And the older you are the more likely you are to have acquired more money and thus can splurge on a first class ticket. The yopunger you are you are more liekly to be concerned about getting to the destination hence you can buty the cheapest ticket .As we can observe the ages of the different classes can tell us important information when we impute .\n",
    "</blockquote>"
   ]
  },
  {
   "cell_type": "code",
   "execution_count": null,
   "metadata": {},
   "outputs": [],
   "source": [
    "sns.boxplot(x='Pclass',y='Fare',data=train,showfliers=False)"
   ]
  },
  {
   "cell_type": "markdown",
   "metadata": {},
   "source": [
    "<h4>Fare of people per class</h4>\n",
    "<blockquote>\n",
    "As we can see that first class is the most expensive which explains the ages of the people who purchase them .  \n",
    "</blockquote>"
   ]
  },
  {
   "cell_type": "code",
   "execution_count": null,
   "metadata": {},
   "outputs": [],
   "source": [
    "sns.countplot(x='Survived',data=train)"
   ]
  },
  {
   "cell_type": "markdown",
   "metadata": {},
   "source": [
    "<h4>Survived Individuals</h4>\n",
    "<blockquote>\n",
    "    We can see that even though we havent watched the movie that more people have died in this horiffic acident than those who have lived. Which explains why people are still taken aback by this . We will try see other contributing factors in the likelyness for one to have survived\n",
    "</blockquote>"
   ]
  },
  {
   "cell_type": "code",
   "execution_count": null,
   "metadata": {},
   "outputs": [],
   "source": [
    "sns.countplot(x='Survived',hue='Pclass',data=train)"
   ]
  },
  {
   "cell_type": "markdown",
   "metadata": {},
   "source": [
    "<h4>Rate of survival and death of people per class</h4>\n",
    "<blockquote>\n",
    "As we can see that the people who died the most come from the 3rd class that could be because the 3rd class is the most heavily populated class as its the cheapest. And if they were all the same size it would remove the novelty of first class. Also first class had the lowest number of deaths and highest number of people who survived which shows that the class counts for you likelyhood of surviving .\n",
    "</blockquote>"
   ]
  },
  {
   "cell_type": "code",
   "execution_count": null,
   "metadata": {},
   "outputs": [],
   "source": [
    "sns.countplot(x='Survived',hue='Embarked',data=train)\n",
    "plt.legend(['Cherbourg','Queenstown','Southampton'])"
   ]
  },
  {
   "cell_type": "markdown",
   "metadata": {},
   "source": [
    "<h4>Rate of survival and death of people per class</h4>\n",
    "<blockquote>\n",
    "As we can see that where someone embarks on the titanic doesnt really give us a good trend as the same trend applies in those who lived.\n",
    "</blockquote>"
   ]
  },
  {
   "cell_type": "code",
   "execution_count": null,
   "metadata": {},
   "outputs": [],
   "source": [
    "sns.countplot(x='Survived',hue='Sex',data=train)"
   ]
  },
  {
   "cell_type": "code",
   "execution_count": null,
   "metadata": {},
   "outputs": [],
   "source": [
    "lived = train[train['Survived']==1]\n",
    "dead = train[train['Survived']==0]\n",
    "plt.figure(figsize=(10,10))\n",
    "plt.subplot(1, 2, 1)\n",
    "xx = len(lived[lived.Sex  == 'male']) \n",
    "yy = len(lived[lived.Sex  == 'female']) \n",
    "\n",
    "plt.title('Pie chart showing those who survived')\n",
    "plt.pie([xx ,yy], explode=(0.1,0.1),autopct='%1.1f%%')\n",
    "plt.legend(['Male', 'Female'],frameon=False, bbox_to_anchor=(1.5,0.8))\n",
    "plt.show()\n",
    "\n",
    "plt.figure(figsize=(10,10))\n",
    "plt.subplot(1, 2, 1)\n",
    "xx = len(dead[dead.Sex  == 'male']) \n",
    "yy = len(dead[dead.Sex  == 'female']) \n",
    "\n",
    "plt.title('Pie chart showing those who died')\n",
    "plt.pie([xx ,yy], explode=(0.1,0.1),autopct='%1.1f%%')\n",
    "plt.legend(['Male', 'Female'],frameon=False, bbox_to_anchor=(1.5,0.8))\n",
    "plt.show()"
   ]
  },
  {
   "cell_type": "markdown",
   "metadata": {},
   "source": [
    "<h4>Rate of survival and death of people per Sex</h4>\n",
    "<blockquote>\n",
    "More males are dying than females , this could be because in an emergency the main call is \"Women and children first\" . Women are seen as more valuable than men as they are the child bearers . Which children are the future so its a form of self preservation by Man. Also its more valiant for a man to be seen as the savior . So men dying more is supposed to be seen in the graphs.\n",
    "</blockquote>"
   ]
  },
  {
   "cell_type": "code",
   "execution_count": null,
   "metadata": {},
   "outputs": [],
   "source": [
    "sns.countplot(x='Survived',hue='Parch',data=train)"
   ]
  },
  {
   "cell_type": "markdown",
   "metadata": {},
   "source": [
    "<h4>Rate of survival and death of people per Number of Parents</h4>\n",
    "<blockquote>\n",
    "As we can see that where someone Number of Parents on the titanic doesnt really give us a good trend as the same trend applies in those who lived.\n",
    "</blockquote>"
   ]
  },
  {
   "cell_type": "code",
   "execution_count": null,
   "metadata": {},
   "outputs": [],
   "source": [
    "for x in [0,1]:\n",
    "    survived = train[train.Survived == x]\n",
    "    sns.distplot(survived['Age'].dropna())\n",
    "    if x == 0:\n",
    "        plt.title('Dead')\n",
    "    else:\n",
    "        plt.title('Alive')\n",
    "    plt.show()"
   ]
  },
  {
   "cell_type": "markdown",
   "metadata": {},
   "source": [
    "<h4>Rate of survival and death of people per ages</h4>\n",
    "<blockquote>\n",
    "As we can see that where someone age on the titanic doesnt really give us a good trend as the same trend applies in those who lived.\n",
    "</blockquote>"
   ]
  },
  {
   "cell_type": "markdown",
   "metadata": {},
   "source": [
    "## Observations so far:\n",
    "- Our data is split with 70 percent non churn\n",
    "- Our data has a 30 perecent churn\n",
    "- Gender isnt a good feature \n",
    "- People who dont stream movies or have no internet are more likely to churn \n",
    "- People in month to month contracts are more likely to churn over one year ,and two year contracts \n",
    "- The lower the monthly charges the less likely to churn\n",
    "- The Lower the tenure the more likely to churn\n",
    "- Not having online backup and security mean the client is more likely to churn"
   ]
  },
  {
   "cell_type": "markdown",
   "metadata": {},
   "source": [
    "# Preprocessing of data\n",
    "- Import necessary packages required\n",
    "- Read the required CSV\n",
    "- how the head of the csv Dataframe\n",
    "- Look at the info of the Dataframe \n",
    "- Look to see if there are ny null values\n",
    "- Replace the space input on the Total Charges and change the dtype\n",
    "- LabelEncode all the categorical data \n",
    "- Create new Dataframe with dropped old columns and new columns \n",
    "- Split the data into x(the features ) and y(the dependent) \n",
    "- Split the data into training and test sets\n",
    "- See the statistics of the dataset"
   ]
  },
  {
   "cell_type": "code",
   "execution_count": null,
   "metadata": {},
   "outputs": [],
   "source": [
    "sns.heatmap(train.isnull(),yticklabels=False)"
   ]
  },
  {
   "cell_type": "markdown",
   "metadata": {},
   "source": [
    "## Imputing Function"
   ]
  },
  {
   "cell_type": "code",
   "execution_count": null,
   "metadata": {},
   "outputs": [],
   "source": [
    "def ageChange(cols):\n",
    "    if pd.isnull(cols[0]):\n",
    "        qwe = train[train.Pclass == cols[1]]\n",
    "        mean = qwe['Age'].mean() \n",
    "        return mean\n",
    "    else:\n",
    "        return cols[0]"
   ]
  },
  {
   "cell_type": "code",
   "execution_count": null,
   "metadata": {},
   "outputs": [],
   "source": [
    "train['Age'] = train[['Age','Pclass']].apply(ageChange,axis=1)"
   ]
  },
  {
   "cell_type": "code",
   "execution_count": null,
   "metadata": {},
   "outputs": [],
   "source": [
    "sns.heatmap(train.isnull(),yticklabels=False)"
   ]
  },
  {
   "cell_type": "code",
   "execution_count": null,
   "metadata": {},
   "outputs": [],
   "source": [
    "train.drop('Cabin',inplace=True,axis=1)"
   ]
  },
  {
   "cell_type": "code",
   "execution_count": null,
   "metadata": {},
   "outputs": [],
   "source": [
    "sns.heatmap(train.isnull(),yticklabels=False)"
   ]
  },
  {
   "cell_type": "code",
   "execution_count": null,
   "metadata": {},
   "outputs": [],
   "source": [
    "sns.heatmap(test.isnull(),yticklabels=False)"
   ]
  },
  {
   "cell_type": "code",
   "execution_count": null,
   "metadata": {},
   "outputs": [],
   "source": [
    "test.drop('Cabin',inplace=True,axis=1)"
   ]
  },
  {
   "cell_type": "code",
   "execution_count": null,
   "metadata": {},
   "outputs": [],
   "source": [
    "test['Age'] = test[['Age','Pclass']].apply(ageChange,axis=1)"
   ]
  },
  {
   "cell_type": "code",
   "execution_count": null,
   "metadata": {},
   "outputs": [],
   "source": [
    "sns.heatmap(test.isnull(),yticklabels=False)"
   ]
  },
  {
   "cell_type": "code",
   "execution_count": null,
   "metadata": {},
   "outputs": [],
   "source": [
    "embarked = pd.get_dummies(train['Embarked'],drop_first=True)\n",
    "sex = pd.get_dummies(train['Sex'],drop_first=True)\n",
    "\n",
    "train.drop(['Sex','Embarked','PassengerId','Name','Ticket'],axis=1,inplace=True)\n",
    "train = pd.concat([train,sex,embarked],axis=1)"
   ]
  },
  {
   "cell_type": "code",
   "execution_count": null,
   "metadata": {},
   "outputs": [],
   "source": [
    "embarked = pd.get_dummies(test['Embarked'],drop_first=True)\n",
    "sex = pd.get_dummies(test['Sex'],drop_first=True)\n",
    "\n",
    "test.drop(['Sex','Embarked','PassengerId','Name','Ticket'],axis=1,inplace=True)\n",
    "test = pd.concat([test,sex,embarked],axis=1)"
   ]
  },
  {
   "cell_type": "code",
   "execution_count": null,
   "metadata": {},
   "outputs": [],
   "source": [
    "train.head()"
   ]
  },
  {
   "cell_type": "code",
   "execution_count": null,
   "metadata": {},
   "outputs": [],
   "source": [
    "test.head()"
   ]
  },
  {
   "cell_type": "markdown",
   "metadata": {},
   "source": [
    "## Split the data into training and test set "
   ]
  },
  {
   "cell_type": "code",
   "execution_count": null,
   "metadata": {},
   "outputs": [],
   "source": [
    "x =  train.drop('Survived',axis=1)\n",
    "y = train['Survived']\n",
    "from sklearn.model_selection import train_test_split\n",
    "from sklearn.linear_model import LogisticRegression\n",
    "x_train, x_test, y_train, y_test = train_test_split(x, y,test_size=0.2, random_state=1)"
   ]
  },
  {
   "cell_type": "markdown",
   "metadata": {},
   "source": [
    "## Here we make our Model\n",
    "- We use the DecisionTreeClassifier model\n",
    "- We will fit it\n",
    "- We predict using all of them using training and test data to see if they good at knowing trained data or new data\n",
    "- Actual Decision Tree\n",
    "- ROC Curve"
   ]
  },
  {
   "cell_type": "code",
   "execution_count": null,
   "metadata": {},
   "outputs": [],
   "source": [
    "lr_train_split = LogisticRegression(solver='lbfgs')\n",
    "lr_train_split.fit(x_train, y_train)"
   ]
  },
  {
   "cell_type": "markdown",
   "metadata": {},
   "source": [
    "## Predictions"
   ]
  },
  {
   "cell_type": "code",
   "execution_count": null,
   "metadata": {},
   "outputs": [],
   "source": [
    "y_pred = lr_train_split.predict(x_test)"
   ]
  },
  {
   "cell_type": "code",
   "execution_count": null,
   "metadata": {},
   "outputs": [],
   "source": [
    "print(f'Score of the classification model on test set = {lr_train_split.score(x_test, y_test)}')"
   ]
  },
  {
   "cell_type": "markdown",
   "metadata": {},
   "source": [
    "## Confusion Matrix "
   ]
  },
  {
   "cell_type": "code",
   "execution_count": null,
   "metadata": {},
   "outputs": [],
   "source": [
    "print(confusion_matrix(y_test,y_pred))\n",
    "positive,negative = confusion_matrix(y_test,y_pred)\n",
    "TP,FP = positive\n",
    "FN,TN = negative\n",
    "print(f'TP True positive = {TP}')\n",
    "print(f'FP False positive = {FP}')\n",
    "print(f'FN False negative = {FN}')\n",
    "print(f'TN True negative = {TN}')"
   ]
  },
  {
   "cell_type": "markdown",
   "metadata": {},
   "source": [
    "- TP True positive for correctly predicted event values.\n",
    "- FP False positive for incorrectly predicted event values.\n",
    "- TN True negative for correctly predicted no-event values.\n",
    "- FN False negative for incorrectly predicted no-event values."
   ]
  },
  {
   "cell_type": "markdown",
   "metadata": {},
   "source": [
    "## Classification Report "
   ]
  },
  {
   "cell_type": "code",
   "execution_count": null,
   "metadata": {},
   "outputs": [],
   "source": [
    "from sklearn.metrics import classification_report\n",
    "print(classification_report(y_test, y_pred))"
   ]
  },
  {
   "cell_type": "markdown",
   "metadata": {},
   "source": [
    "Precision - Precision is the ability of a classiifer not to label an instance positive that is actually negative.\n",
    "\n",
    "Precision = TP/(TP + FP)\n",
    "\n",
    "Recall - Recall is the ability of a classifier to find all positive instances.\n",
    "\n",
    "Recall = TP/(TP+FN)\n",
    "\n",
    "F1 Score - The F1 score is a weighted harmonic mean of precision and recall such that the best score is 1.0 and the worst is 0.0.\n",
    "\n",
    "F1 Score = 2*(Recall * Precision) / (Recall + Precision)"
   ]
  },
  {
   "cell_type": "markdown",
   "metadata": {},
   "source": [
    "## ROC Curve Graph"
   ]
  },
  {
   "cell_type": "code",
   "execution_count": null,
   "metadata": {},
   "outputs": [],
   "source": [
    "from sklearn.metrics import roc_auc_score\n",
    "from sklearn.metrics import roc_curve\n",
    "\n",
    "roc_auc = roc_auc_score(y_test,y_pred)\n",
    "fpr, tpr, thresholds = roc_curve(y_test, y_pred)\n",
    "plt.plot(fpr, tpr, color='orange', label=f'ROC = {roc_auc}')\n",
    "plt.plot([0, 1], [0, 1], color='darkblue', linestyle='--')\n",
    "plt.xlabel('False Positive Rate')\n",
    "plt.ylabel('True Positive Rate')\n",
    "plt.title('Receiver Operating Characteristic (ROC) Curve')\n",
    "plt.legend()\n",
    "plt.show()"
   ]
  },
  {
   "cell_type": "code",
   "execution_count": null,
   "metadata": {},
   "outputs": [],
   "source": [
    "target = train['Survived'].values\n",
    "feature_names = ['Pclass','Age','Fare','SibSp','Parch']\n",
    "features = train[feature_names].values\n",
    "\n",
    "#make model\n",
    "from sklearn import model_selection\n",
    "\n",
    "scores = model_selection.cross_val_score(lr_train_split,features,target,scoring='accuracy',cv=50)\n",
    "print(scores)\n",
    "print(f'this is the mean {scores.mean()}')"
   ]
  },
  {
   "cell_type": "code",
   "execution_count": null,
   "metadata": {},
   "outputs": [],
   "source": []
  }
 ],
 "metadata": {
  "kernelspec": {
   "display_name": "Python 3",
   "language": "python",
   "name": "python3"
  },
  "language_info": {
   "codemirror_mode": {
    "name": "ipython",
    "version": 3
   },
   "file_extension": ".py",
   "mimetype": "text/x-python",
   "name": "python",
   "nbconvert_exporter": "python",
   "pygments_lexer": "ipython3",
   "version": "3.7.4"
  }
 },
 "nbformat": 4,
 "nbformat_minor": 4
}
